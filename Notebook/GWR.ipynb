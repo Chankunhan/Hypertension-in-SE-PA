{
 "cells": [
  {
   "cell_type": "code",
   "execution_count": 2,
   "metadata": {
    "collapsed": false
   },
   "outputs": [],
   "source": [
    "import numpy as np\n",
    "import pandas as pd\n",
    "import pysal as ps\n",
    "from pysal.contrib.gwr.sel_bw import Sel_BW\n",
    "from pysal.contrib.gwr.gwr import GWR\n",
    "from pysal.contrib.glm.family import Gaussian\n",
    "from scipy.stats import pearsonr"
   ]
  },

{
 "cells": [
  {
   "cell_type": "code",
   "execution_count": 2,
   "metadata": {
    "collapsed": false
   },
   "outputs": [],
   "source": [
   "%%stata -o sphhs_combined",
   "use: "",
  ]
},
