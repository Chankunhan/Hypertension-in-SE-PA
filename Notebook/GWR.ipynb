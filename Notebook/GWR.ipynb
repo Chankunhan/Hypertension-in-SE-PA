{
 "cells": [
  {
   "cell_type": "code",
   "execution_count": 2,
   "metadata": {
    "collapsed": false
   },
   "outputs": [],
   "source": [
    "import pandas as pd\n",
    "import pysal as ps\n",
   ]
  }
