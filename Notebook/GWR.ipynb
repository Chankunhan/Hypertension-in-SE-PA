%%stata -o sphhs_combined
use: ""
