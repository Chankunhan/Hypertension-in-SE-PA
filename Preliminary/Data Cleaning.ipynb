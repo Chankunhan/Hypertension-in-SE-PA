{
 "cells": [
  {
   "cell_type": "code",
   "execution_count": 1,
   "metadata": {},
   "outputs": [],
   "source": [
    "import pandas as pd"
   ]
  },
  {
   "cell_type": "code",
   "execution_count": 4,
   "metadata": {},
   "outputs": [],
   "source": [
    "import ipystata"
   ]
  },
  {
   "cell_type": "code",
   "execution_count": 6,
   "metadata": {},
   "outputs": [
    {
     "name": "stdout",
     "output_type": "stream",
     "text": [
      "Hello, I am printed by Stata.\n",
      "\n"
     ]
    }
   ],
   "source": [
    "%%stata\n",
    "\n",
    "display \"Hello, I am printed by Stata.\""
   ]
  },
  {
   "cell_type": "code",
   "execution_count": 8,
   "metadata": {},
   "outputs": [],
   "source": [
    "%%stata\n",
    "use \"P:\\05. My Proposal\\AHA Precision Med Postdoc\\SPHHS\\Data\\HS combined 3-17-18\""
   ]
  },
  {
   "cell_type": "code",
   "execution_count": 11,
   "metadata": {},
   "outputs": [
    {
     "name": "stdout",
     "output_type": "stream",
     "text": [
      "(29840 differences between ORIGIN and fborn)\n",
      "\n",
      "------------------------------------------------------------------------------------------------------------------------------------------------\n",
      "fborn                                                                                                                        foreign-born or not\n",
      "------------------------------------------------------------------------------------------------------------------------------------------------\n",
      "\n",
      "                  type:  numeric (double)\n",
      "                 label:  fborn\n",
      "\n",
      "                 range:  [0,1]                        units:  1\n",
      "         unique values:  2                        missing .:  232/30,072\n",
      "\n",
      "            tabulation:  Freq.   Numeric  Label\n",
      "                        27,431         0  US-born\n",
      "                         2,409         1  foreign-born\n",
      "                           232         .  \n",
      "\n"
     ]
    }
   ],
   "source": [
    "%%stata\n",
    "recode ORIGIN (1=0)(2/1000=1),gen(fborn)\n",
    "lab var fborn \"foreign-born or not\"\n",
    "lab def fborn 1\"foreign-born\" 0\"US-born\"\n",
    "lab val fborn fborn\n",
    "codebook fborn"
   ]
  },
  {
   "cell_type": "code",
   "execution_count": 12,
   "metadata": {},
   "outputs": [
    {
     "name": "stdout",
     "output_type": "stream",
     "text": [
      "(178 differences between RACEA2 and race4)\n",
      "\n",
      "------------------------------------------------------------------------------------------------------------------------------------------------\n",
      "race4                                                                                                                       race in 4 categories\n",
      "------------------------------------------------------------------------------------------------------------------------------------------------\n",
      "\n",
      "                  type:  numeric (double)\n",
      "                 label:  race4\n",
      "\n",
      "                 range:  [1,5]                        units:  1\n",
      "         unique values:  5                        missing .:  600/30,072\n",
      "\n",
      "            tabulation:  Freq.   Numeric  Label\n",
      "                        20,269         1  NHW\n",
      "                         6,442         2  NHB\n",
      "                         1,488         3  Hispanic\n",
      "                           553         4  Asian\n",
      "                           720         5  other\n",
      "                           600         .  \n",
      "\n"
     ]
    }
   ],
   "source": [
    "%%stata\n",
    "recode RACEA2 (5/7=5),gen(race4)\n",
    "lab var race4 \"race in 4 categories\"\n",
    "lab def race4 1\"NHW\" 2\"NHB\" 3\"Hispanic\" 4\"Asian\" 5\"other\"\n",
    "lab val race4 race4\n",
    "codebook race4"
   ]
  },
  {
   "cell_type": "code",
   "execution_count": 13,
   "metadata": {},
   "outputs": [
    {
     "name": "stdout",
     "output_type": "stream",
     "text": [
      "\n",
      "------------------------------------------------------------------------------------------------------------------------------------------------\n",
      "race4                                                                                                                       race in 4 categories\n",
      "------------------------------------------------------------------------------------------------------------------------------------------------\n",
      "\n",
      "                  type:  numeric (double)\n",
      "                 label:  race4\n",
      "\n",
      "                 range:  [1,5]                        units:  1\n",
      "         unique values:  5                        missing .:  51/2,409\n",
      "\n",
      "            tabulation:  Freq.   Numeric  Label\n",
      "                           796         1  NHW\n",
      "                           391         2  NHB\n",
      "                           688         3  Hispanic\n",
      "                           421         4  Asian\n",
      "                            62         5  other\n",
      "                            51         .  \n",
      "\n"
     ]
    }
   ],
   "source": [
    "%%stata\n",
    "codebook race4 if fborn==1"
   ]
  },
  {
   "cell_type": "code",
   "execution_count": null,
   "metadata": {},
   "outputs": [],
   "source": []
  }
 ],
 "metadata": {
  "kernelspec": {
   "display_name": "Python 3",
   "language": "python",
   "name": "python3"
  },
  "language_info": {
   "codemirror_mode": {
    "name": "ipython",
    "version": 3
   },
   "file_extension": ".py",
   "mimetype": "text/x-python",
   "name": "python",
   "nbconvert_exporter": "python",
   "pygments_lexer": "ipython3",
   "version": "3.6.4"
  }
 },
 "nbformat": 4,
 "nbformat_minor": 2
}
