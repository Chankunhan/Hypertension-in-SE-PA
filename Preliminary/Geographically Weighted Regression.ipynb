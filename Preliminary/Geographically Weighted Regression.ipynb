{
 "cells": [
  {
   "cell_type": "code",
   "execution_count": null,
   "metadata": {},
   "outputs": [],
   "source": [
    "import numpy as np\n",
    "import pandas as pd\n",
    "import geopandas as gp\n",
    "import pysal as ps\n",
    "import matplotlib\n",
    "import matplotlib.pyplot as plt\n",
    "%pylab inline\n",
    "from sel_bw import Sel_BW\n",
    "from gwr import GWR\n",
    "from pysal.contrib.glm.family import Gaussian"
   ]
  },
  {
   "cell_type": "code",
   "execution_count": null,
   "metadata": {},
   "outputs": [],
   "source": [
    "#Data\n",
    "\n",
    "data = ps.open(ps.examples.get_path('dataname'))\n",
    "shp = gp.read_file('data directory')\n",
    "vmin, vmax = np.min(shp['PctBach']), np.max(shp['PctBach']) \n",
    "ax = shp.plot('PctBach', vmin=vmin, vmax=vmax, figsize=(8,8), cmap='Reds')\n",
    "ax.set_title('PctBach' + ' T-vals')\n",
    "fig = ax.get_figure()\n",
    "cax = fig.add_axes([0.9, 0.1, 0.03, 0.8])\n",
    "sm = plt.cm.ScalarMappable(norm=plt.Normalize(vmin=vmin, vmax=vmax), cmap='Reds')\n",
    "sm._A = []\n",
    "fig.colorbar(sm, cax=cax)"
   ]
  },
  {
   "cell_type": "code",
   "execution_count": null,
   "metadata": {},
   "outputs": [],
   "source": [
    "# Prep data into design matrix and coordinates\n",
    "\n",
    "#Dependent variable\n",
    "y = shp.PctBach.reshape((-1,1))\n",
    "\n",
    "#Design matrix - covariates - intercept added automatically\n",
    "pov = shp.PctPov.reshape((-1,1))\n",
    "rural = shp.PctRural.reshape((-1,1))\n",
    "blk = shp.PctBlack.reshape((-1,1))\n",
    "X = np.hstack([pov, rural, blk])\n",
    "labels = ['Intercept', 'PctPov', 'PctRural', 'PctAfricanAmer']\n",
    "\n",
    "#Coordinates for calibration points\n",
    "u = shp.X\n",
    "v = shp.Y\n",
    "coords = zip(u,v)"
   ]
  },
  {
   "cell_type": "code",
   "execution_count": null,
   "metadata": {},
   "outputs": [],
   "source": [
    "#Find optimal bandwidth using golden section search to minimize AICc\n",
    "\n",
    "#Instantiate bandwidth selection class - bisquare NN (adaptive)\n",
    "bw = Sel_BW(coords, y, X, kernel='bisquare', fixed=False)\n",
    "\n",
    "#Find optimal bandwidth by minimizing AICc using golden section search algorithm\n",
    "bw = bw.search(search='golden_section', criterion='AICc')\n",
    "print bw"
   ]
  },
  {
   "cell_type": "code",
   "execution_count": null,
   "metadata": {},
   "outputs": [],
   "source": [
    "#Instantiate GWR model and then estimate parameters and diagnostics using fit method\n",
    "model = GWR(coords, y, X, bw, family=Gaussian(), fixed=False, kernel='bisquare')\n",
    "results = model.fit()"
   ]
  },
  {
   "cell_type": "code",
   "execution_count": null,
   "metadata": {},
   "outputs": [],
   "source": [
    "\n",
    "#Results in a set of mappable results \n",
    "results.params.shape"
   ]
  },
  {
   "cell_type": "code",
   "execution_count": null,
   "metadata": {},
   "outputs": [],
   "source": [
    "#Map Parameter estimates and T-vals for each covariate\n",
    "\n",
    "\n",
    "for param in range(results.params.shape[1]):\n",
    "    shp[str(param)] = results.params[:,param]\n",
    "    vmin, vmax = np.min(shp[str(param)]), np.max(shp[str(param)]) \n",
    "    ax = shp.plot(str(param), vmin=vmin, vmax=vmax, figsize=(8,8), cmap='YlOrRd')\n",
    "    ax.set_title(labels[param] + ' Estimates')\n",
    "    fig = ax.get_figure()\n",
    "    cax = fig.add_axes([0.9, 0.1, 0.03, 0.8])\n",
    "    sm = plt.cm.ScalarMappable(norm=plt.Normalize(vmin=vmin, vmax=vmax), cmap='YlOrRd')\n",
    "    sm._A = []\n",
    "    fig.colorbar(sm, cax=cax)\n",
    "    \n",
    "    shp[str(param)] = results.tvalues[:,param]\n",
    "    vmin, vmax = np.min(shp[str(param)]), np.max(shp[str(param)]) \n",
    "    ax = shp.plot(str(param), vmin=vmin, vmax=vmax, figsize=(8,8), cmap='Greys')\n",
    "    ax.set_title(labels[param] + ' T-vals')\n",
    "    fig = ax.get_figure()\n",
    "    cax = fig.add_axes([0.9, 0.1, 0.03, 0.8])\n",
    "    sm = plt.cm.ScalarMappable(norm=plt.Normalize(vmin=vmin, vmax=vmax), cmap='Greys')\n",
    "    sm._A = []\n",
    "    fig.colorbar(sm, cax=cax)"
   ]
  },
  {
   "cell_type": "code",
   "execution_count": null,
   "metadata": {},
   "outputs": [],
   "source": [
    "#Map local R-square values which is a weighted R-square at each observation location\n",
    "\n",
    "shp['localR2'] = results.localR2\n",
    "vmin, vmax = np.min(shp['localR2']), np.max(shp['localR2']) \n",
    "ax = shp.plot('localR2', vmin=vmin, vmax=vmax, figsize=(8,8), cmap='PuBuGn')\n",
    "ax.set_title('Local R-Squared')\n",
    "fig = ax.get_figure()\n",
    "cax = fig.add_axes([0.9, 0.1, 0.03, 0.8])\n",
    "sm = plt.cm.ScalarMappable(norm=plt.Normalize(vmin=vmin, vmax=vmax), cmap='PuBuGn')\n",
    "sm._A = []\n",
    "fig.colorbar(sm, cax=cax)"
   ]
  }
 ],
 "metadata": {
  "kernelspec": {
   "display_name": "Python 3",
   "language": "python",
   "name": "python3"
  },
  "language_info": {
   "codemirror_mode": {
    "name": "ipython",
    "version": 3
   },
   "file_extension": ".py",
   "mimetype": "text/x-python",
   "name": "python",
   "nbconvert_exporter": "python",
   "pygments_lexer": "ipython3",
   "version": "3.6.4"
  }
 },
 "nbformat": 4,
 "nbformat_minor": 2
}
